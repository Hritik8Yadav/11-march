{
 "cells": [
  {
   "cell_type": "code",
   "execution_count": 1,
   "id": "27e922e7-707f-4549-980d-cbd414e5b581",
   "metadata": {},
   "outputs": [
    {
     "data": {
      "text/plain": [
       "\"Ans1: The difference between t-test and z-test are:\\n        \\n            i. The t test is the test used when we don't know the value of population standard deviation or if the\\n               the number of sample is less then 30. while the z-test is used when the value of population standard\\n               deviation is known as well as the number of sample is greater then 30.\\n            ii. The t-test require the number of degree of freedom to get the value of t while in z test we don't \\n                require the the value of degree of freedom to get the value of z.\\n                \\n        for example,\\n        \\n        z-test: A person estimate that the average height of students in school is 165 cm with standard deviation\\n                of 5cm and a sample of 40 students is taken and the average height of these students is 168. \\n                perdict that the average height of students is same or not.\\n                \\n                in the above statement the population standard deviation as well as sample data is given so we can \\n                use z-test\\n        \\n        t-test: a person estimate that the average height of students in school is 170. A sample of 20 students is \\n                taken and the average height of these students is 168 with standard deviation 7. \\n                perdict that the average height of students is same or not.\\n                \\n                in the above statement the population standard deviation is not give but the sample standard deviaton\\n                is given with sample data less then 30.\\n\""
      ]
     },
     "execution_count": 1,
     "metadata": {},
     "output_type": "execute_result"
    }
   ],
   "source": [
    "'''Ans1: The difference between t-test and z-test are:\n",
    "        \n",
    "            i. The t test is the test used when we don't know the value of population standard deviation or if the\n",
    "               the number of sample is less then 30. while the z-test is used when the value of population standard\n",
    "               deviation is known as well as the number of sample is greater then 30.\n",
    "            ii. The t-test require the number of degree of freedom to get the value of t while in z test we don't \n",
    "                require the the value of degree of freedom to get the value of z.\n",
    "                \n",
    "        for example,\n",
    "        \n",
    "        z-test: A person estimate that the average height of students in school is 165 cm with standard deviation\n",
    "                of 5cm and a sample of 40 students is taken and the average height of these students is 168. \n",
    "                perdict that the average height of students is same or not.\n",
    "                \n",
    "                in the above statement the population standard deviation as well as sample data is given so we can \n",
    "                use z-test\n",
    "        \n",
    "        t-test: a person estimate that the average height of students in school is 170. A sample of 20 students is \n",
    "                taken and the average height of these students is 168 with standard deviation 7. \n",
    "                perdict that the average height of students is same or not.\n",
    "                \n",
    "                in the above statement the population standard deviation is not give but the sample standard deviaton\n",
    "                is given with sample data less then 30.\n",
    "'''"
   ]
  },
  {
   "cell_type": "code",
   "execution_count": null,
   "id": "3c37043f-1670-4036-a776-455faf150121",
   "metadata": {},
   "outputs": [],
   "source": [
    "'''Ans2: The difference between one tailed and two tailed test are:\n",
    "            \n",
    "            i. The value of mean in under certain range in two tailed test while the value of mean is greater or less\n",
    "                then the certain value in one tailed test.\n",
    "                \n",
    "            ii. In one tailed test the comparision is done from a single value while in one tailed test the comparision\n",
    "                is done from two value i.e. The value must be less then or equal to certain value.\n",
    "                \n",
    "            iii. The one tailed test will have only one critical region while the two tailed test will have the two\n",
    "                critical region\n",
    "'''"
   ]
  },
  {
   "cell_type": "code",
   "execution_count": null,
   "id": "548b43d4-dcef-494d-bdb7-d7d908d1e818",
   "metadata": {},
   "outputs": [],
   "source": [
    "'''Ans3: Type1 error: In this type of error we reject the hypothesis but in the reality the hypothesis is true i.e.\n",
    "                        the hypothesis is correct. for example if the average number in a perticular subject is 50 \n",
    "                        out of 70. and we take the sample to evaluate the hypothesis and do the statistical testing\n",
    "                        on the sample while testing reject the hypothesis but the average is 50 in reality this type\n",
    "                        of error is type1.\n",
    "                        \n",
    "        Type2 error: In this type of error we accpet the hypothesis but in the reality the hypothesis is false i.e.\n",
    "                        the hypothesis is incorrect. for example if the average height of a school student is 160 but\n",
    "                        in reality it is 170. A sample is taken to evaluate the hypothesis is 160 and while doing the \n",
    "                        testing the hypothesis is accepted but the real average is not 160. This type of error is type2.\n",
    "'''"
   ]
  },
  {
   "cell_type": "code",
   "execution_count": null,
   "id": "0df53293-20e7-47fb-b262-c1e45a3deff7",
   "metadata": {},
   "outputs": [],
   "source": [
    "'''Ans4: Bayes's Theorem is used to calcule the probablity of an event given that cetain event is already occurred.\n",
    "         The event of which we evalue the probablity of is known as posterior event.\n",
    "         The formula for Bayes's theorem is given by: \n",
    "         \n",
    "                                        P(A) x P(B/A)\n",
    "                            P(A/B)   =  -------------\n",
    "                                            P(B)\n",
    "                            \n",
    "                            where, P(A/B) is the posterior event\n",
    "                                   P(B/A) is the prior event\n",
    "                                   P(A) is the likelihood\n",
    "                                   P(B) is the evidence\n",
    "        \n",
    "'''"
   ]
  },
  {
   "cell_type": "code",
   "execution_count": null,
   "id": "36fe7d76-62ff-4e30-b3ea-c676980fad56",
   "metadata": {},
   "outputs": [],
   "source": [
    "'''Ans5: Confidence Interval is the interval of range from negative to positve of the mean between which cerain\n",
    "        parameter is acceptable. \n",
    "        We can calculate the confidence interval by using the formula:\n",
    "                    \n",
    "                    C.I. = ̄x ± z*(s/sqrt(n))\n",
    "                    \n",
    "                    where, x̄ is the sample mean\n",
    "                           z is the critical value\n",
    "                           s is the sample std\n",
    "                           n is number of sample\n",
    "        for example: In a bar the std of number of people visiting and drinking is 5. The sample of 50 people is taken and mean\n",
    "                     is 15 construct a 95% C.I about mean.\n",
    "                     \n",
    "                     C.I. = 15 ± 1.96*(5/sqrt(50))\n",
    "                     C.I. = 15 ± 1.3859\n",
    "                     \n",
    "                     so C.I. is 13.6144 to 16.35844\n",
    "'''"
   ]
  },
  {
   "cell_type": "code",
   "execution_count": null,
   "id": "c38c3d40-1026-4d73-a468-4df1e74b7c7f",
   "metadata": {},
   "outputs": [],
   "source": [
    "'''Ans6: Given a pack of cards if we take out a queen outo of the pack find the probablity that the queen is of red?\n",
    "        \n",
    "            posterior probablity = P(red/Queen)\n",
    "            prior probablity = P(Queen/red)\n",
    "            likelihood = P(red)\n",
    "            evidence = P(Queen)\n",
    "            \n",
    "            using Bayes's theorem,\n",
    "                                 \n",
    "                                  P(r) * P(Q/r)\n",
    "                        P(r/Q) =  -------------\n",
    "                                     P(Q)\n",
    "                        \n",
    "                                   (13/52) * (1/13)      0.25 * 0.076      0.019\n",
    "                       P(r/Q) =    ---------------- =   -------------- =  ------- = 0.25\n",
    "                                      (4/52)                 0.076         0.076 \n",
    "                                      \n",
    "                             P(r/Q)=0.25         \n",
    "'''"
   ]
  },
  {
   "cell_type": "code",
   "execution_count": null,
   "id": "bad2784a-65f5-44cc-8e3b-fefb4a3a6f3d",
   "metadata": {},
   "outputs": [],
   "source": [
    "'''Ans7: Given: x̄ = 50\n",
    "                std = 5\n",
    "                let the sample size be 30\n",
    "                \n",
    "                So using the formula for C.I. = x̄ ± z*(s/sqrt(n))\n",
    "                \n",
    "                    C.I. = 50 ± 1.96*(5/sqrt(30)) \n",
    "                         = 50 ± 1.7892\n",
    "                    C.I. = 50 + 1.7892 = 51.7892\n",
    "                    C.I. = 50 - 1.7892 = 48.21\n",
    "                    \n",
    "                    so we are 95% confident that the mean lies between 48.21 to 51.7892\n",
    "'''"
   ]
  },
  {
   "cell_type": "code",
   "execution_count": null,
   "id": "c3cdf704-cdd3-4523-ac79-344356fcb999",
   "metadata": {},
   "outputs": [],
   "source": [
    "'''Ans8: The margin of error is the margin of the precision of any parameter such as mean. It denotes the range of\n",
    "         estimate about the parameter.\n",
    "         The margin of error and sample size are inversly related to each other i.e. the margin of error decrease with\n",
    "         increase in sample size and vice-versa.\n",
    "         for example: lets take the sample size of 1000 with the mean of 5 with critical value of 1.96. \n",
    "                      \n",
    "                      Then the margin of error is 0.098 which is very small.\n",
    "'''"
   ]
  },
  {
   "cell_type": "code",
   "execution_count": null,
   "id": "de568d77-b2e6-40bc-b782-a9e179b3b4bc",
   "metadata": {},
   "outputs": [],
   "source": [
    "'''Ans9: Given, x=75\n",
    "                μ=70\n",
    "                σ=5\n",
    "                \n",
    "                using z formula,\n",
    "                z = (x-μ)/σ\n",
    "                z = (75-70)/5 = 5/5\n",
    "                z = 1 q\n",
    "                \n",
    "                The z represents how much standard deviation the point x is from the population mean.\n",
    "                Here the result denotes that x is 1 standard deviation ahead of mean.\n",
    "'''"
   ]
  },
  {
   "cell_type": "code",
   "execution_count": null,
   "id": "5f2c2081-3f7d-4a7b-b219-3b3d25d5be52",
   "metadata": {},
   "outputs": [],
   "source": [
    "'''Ans10: Given, n=50\n",
    "                 x=6\n",
    "                 s=2.5\n",
    "                 C.I. =95%\n",
    "                 dof = 49\n",
    "                 \n",
    "                 Null hypothesis: The weight loss is 0 or less then 0.\n",
    "                 Alternative hypothesis: The weight loss is greater then 0.\n",
    "                 \n",
    "                 Now using the one tailed test critical value at C.I.=95% and dof = 49 is 1.6765.\n",
    "                 \n",
    "                 t = (x-mu)/(s/sqrt(n))\n",
    "                 t = (6-0)/(2.5/sqrt(50)) = 16.97\n",
    "                 \n",
    "                 Here t > critical value so we can reject the null hypothesis and the medicine is effective for weight loss.\n",
    "'''"
   ]
  },
  {
   "cell_type": "code",
   "execution_count": null,
   "id": "6f24a6d4-6d12-4abb-8362-176331fb2428",
   "metadata": {},
   "outputs": [],
   "source": [
    "'''Ans11: Given, p=0.65\n",
    "                 C.I.=95%\n",
    "                 \n",
    "                 using the formula for the true proportion for C.I. \n",
    "                 \n",
    "                 C.I. = p ± z*(sqrt((p*(1-p))/n)\n",
    "                 C.I. = 0.65 ± 1.96*(sqrt(0.65*(1-0.65)/500)) \n",
    "                 C.I. = 0.65 ± 0.0418\n",
    "                 C.I. = (0.6081-0.6918)\n",
    "'''"
   ]
  },
  {
   "cell_type": "code",
   "execution_count": 1,
   "id": "6cc5e7ca-930f-4ccb-99b8-b19d43e8a5f6",
   "metadata": {},
   "outputs": [
    {
     "data": {
      "text/plain": [
       "'Ans13: given mu=60\\n                std=8 \\n                x=65\\n                n=50\\n                ci=90\\n                \\n                at ci=90% the critical value is 1.645\\n                \\n                using the formula for Confidence interval for population data \\n                \\n                C.I. = mu ± z(std/sqrt(n))\\n                     = 60 ± 1.645(8/sqrt(50))\\n                C.I. = 60 ± 1.86\\n                C.I. = (63.14 to 66.86)\\n                     \\n'"
      ]
     },
     "execution_count": 1,
     "metadata": {},
     "output_type": "execute_result"
    }
   ],
   "source": [
    "'''Ans13: given mu=60\n",
    "                std=8 \n",
    "                x=65\n",
    "                n=50\n",
    "                ci=90\n",
    "                \n",
    "                at ci=90% the critical value is 1.645\n",
    "                \n",
    "                using the formula for Confidence interval for population data \n",
    "                \n",
    "                C.I. = mu ± z(std/sqrt(n))\n",
    "                     = 60 ± 1.645(8/sqrt(50))\n",
    "                C.I. = 60 ± 1.86\n",
    "                C.I. = (63.14 to 66.86)\n",
    "                     \n",
    "'''"
   ]
  },
  {
   "cell_type": "code",
   "execution_count": null,
   "id": "6b924236-34bd-48c1-bde6-891d64f14a8b",
   "metadata": {},
   "outputs": [],
   "source": [
    "'''Ans14: Given, n=30\n",
    "                 x=0.25\n",
    "                 s=0.05\n",
    "                 C.I. =90%\n",
    "                 dof=29\n",
    "                 \n",
    "                 Null hypothesis: There is no change on the reaction time by caffiene.\n",
    "                 Alternate hypothesis: There is change on the reaction time by caffiene.\n",
    "                 now using t table finding the critical value for two tailed test for C.I. = 90% and dof=29 \n",
    "                 we get -1.699 and 1.699\n",
    "                 \n",
    "                 now using the t formula t= (x-mu)/(s/sqrt(n))\n",
    "                 \n",
    "                 t = (0.25 - 0) / (0.05/sqrt(30))\n",
    "                 t = 26.38\n",
    "                 as t>>critical value \n",
    "                 so the null hypothesis is rejected this means there will be change on reaction time by caffiene.\n",
    "'''"
   ]
  }
 ],
 "metadata": {
  "kernelspec": {
   "display_name": "Python 3 (ipykernel)",
   "language": "python",
   "name": "python3"
  },
  "language_info": {
   "codemirror_mode": {
    "name": "ipython",
    "version": 3
   },
   "file_extension": ".py",
   "mimetype": "text/x-python",
   "name": "python",
   "nbconvert_exporter": "python",
   "pygments_lexer": "ipython3",
   "version": "3.10.8"
  }
 },
 "nbformat": 4,
 "nbformat_minor": 5
}
